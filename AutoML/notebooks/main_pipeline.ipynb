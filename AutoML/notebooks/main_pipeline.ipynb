{
 "cells": [
  {
   "cell_type": "code",
   "execution_count": 1,
   "id": "b1ca1ac6-5c77-4485-bb96-9c81bc97189f",
   "metadata": {},
   "outputs": [
    {
     "name": "stdout",
     "output_type": "stream",
     "text": [
      "✅ Project root added: C:\\Users\\Admin\\smart_qc_v2\n"
     ]
    }
   ],
   "source": [
    "import sys, os\n",
    "\n",
    "# ✅ force Jupyter to recognize smartqc module\n",
    "project_root = os.path.abspath(os.path.join(os.getcwd(), \"..\"))\n",
    "sys.path.insert(0, project_root)\n",
    "\n",
    "print(f\"✅ Project root added: {project_root}\")"
   ]
  },
  {
   "cell_type": "code",
   "execution_count": 2,
   "id": "0111e046-95cd-4572-b3e3-a95ee019f874",
   "metadata": {},
   "outputs": [],
   "source": [
    "%load_ext autoreload\n",
    "%autoreload 2"
   ]
  },
  {
   "cell_type": "code",
   "execution_count": 3,
   "id": "9f814c19-cffc-49e4-9d55-84ea982a73b1",
   "metadata": {},
   "outputs": [
    {
     "name": "stdout",
     "output_type": "stream",
     "text": [
      "{'batch_size': 100000, 'random_state': 42, 'verbose': True, 'anomaly_detection': True, 'inf_handling': 'knn', 'columns_to_drop': [], 'scale_numeric': True, 'use_smote': True, 'smote_sampling_strategy': 0.5, 'auto_target_selection': False, 'target_column_names': [], 'time_series_threshold': 0.3, 'max_trials': 10, 'automl_timeout_minutes': 5}\n"
     ]
    }
   ],
   "source": [
    "import sys, os\n",
    "sys.path.insert(0, os.path.abspath(os.path.join(os.getcwd(), \"..\"))) #first priority in project root \n",
    "from smartqc.config import CONFIG\n",
    "print(CONFIG)"
   ]
  },
  {
   "cell_type": "code",
   "execution_count": 4,
   "id": "63cd3843-bcc3-4786-9e3d-69356b4785ee",
   "metadata": {},
   "outputs": [
    {
     "name": "stdout",
     "output_type": "stream",
     "text": [
      "Data loaded → shape: (10000, 14)\n",
      "(10000, 14)\n",
      "   UDI Product ID Type  Air temperature [K]  Process temperature [K]  \\\n",
      "0    1     M14860    M                298.1                    308.6   \n",
      "1    2     L47181    L                298.2                    308.7   \n",
      "2    3     L47182    L                298.1                    308.5   \n",
      "3    4     L47183    L                298.2                    308.6   \n",
      "4    5     L47184    L                298.2                    308.7   \n",
      "\n",
      "   Rotational speed [rpm]  Torque [Nm]  Tool wear [min]  Machine failure  TWF  \\\n",
      "0                    1551         42.8                0                0    0   \n",
      "1                    1408         46.3                3                0    0   \n",
      "2                    1498         49.4                5                0    0   \n",
      "3                    1433         39.5                7                0    0   \n",
      "4                    1408         40.0                9                0    0   \n",
      "\n",
      "   HDF  PWF  OSF  RNF  \n",
      "0    0    0    0    0  \n",
      "1    0    0    0    0  \n",
      "2    0    0    0    0  \n",
      "3    0    0    0    0  \n",
      "4    0    0    0    0  \n"
     ]
    }
   ],
   "source": [
    "from smartqc.data_loader import DataLoader\n",
    "\n",
    "data_loader = DataLoader(\"../data/ai4i2020.csv\")\n",
    "df = data_loader.df\n",
    "print(df.shape)\n",
    "data_loader.preview()"
   ]
  },
  {
   "cell_type": "code",
   "execution_count": 5,
   "id": "a801ee29-c471-485e-89fb-4827f8e97656",
   "metadata": {},
   "outputs": [
    {
     "name": "stdout",
     "output_type": "stream",
     "text": [
      " Missing Value Audit:\n",
      "   Dataset Shape: (10000, 14)\n",
      "   Total Missing Cells: 0\n",
      "   Missing %: 0.00%\n",
      "Using KNNImputer to fill missing values...\n",
      "KNNImputer complete. Non-numeric columns untouched: ['Product ID', 'Type']\n",
      "New dataset shape after missing value handling: (10000, 14)\n",
      "(10000, 14)\n"
     ]
    }
   ],
   "source": [
    "from smartqc.missing_handler import MissingHandler\n",
    "\n",
    "mh = MissingHandler(data_loader.df)\n",
    "clean_df = mh.fix()\n",
    "print(clean_df.shape)"
   ]
  },
  {
   "cell_type": "code",
   "execution_count": 6,
   "id": "fa7c55fa-4861-46f4-bed5-6128e9e51590",
   "metadata": {},
   "outputs": [
    {
     "name": "stdin",
     "output_type": "stream",
     "text": [
      "\n",
      "Do you want to manually define sensor limits? (y/n):  n\n"
     ]
    },
    {
     "name": "stdout",
     "output_type": "stream",
     "text": [
      "Skipping manual outlier detection. Will proceed with automatic (if enabled).\n",
      "Data Quality Report:\n",
      "   Dataset Shape: (10000, 14)\n",
      "   Infinite values detected: 0\n",
      "Running automatic anomaly detection (Isolation Forest)...\n",
      "Automatic outliers flagged in 'is_outlier' column (1=outlier, 0=normal).\n",
      "   is_outlier  UDI  Air temperature [K]  Process temperature [K]  \\\n",
      "0           0  1.0                298.1                    308.6   \n",
      "1           0  2.0                298.2                    308.7   \n",
      "2           0  3.0                298.1                    308.5   \n",
      "3           0  4.0                298.2                    308.6   \n",
      "4           0  5.0                298.2                    308.7   \n",
      "\n",
      "   Rotational speed [rpm]  Torque [Nm]  \n",
      "0                  1551.0         42.8  \n",
      "1                  1408.0         46.3  \n",
      "2                  1498.0         49.4  \n",
      "3                  1433.0         39.5  \n",
      "4                  1408.0         40.0  \n"
     ]
    }
   ],
   "source": [
    "from smartqc.quality_monitor import get_user_sensor_limits, QualityMonitor\n",
    "\n",
    "manual_ranges = get_user_sensor_limits(clean_df)  # ← system asks user Y/N\n",
    "qm = QualityMonitor(clean_df, manual_outlier_ranges=manual_ranges)\n",
    "audited_df = qm.get_data()"
   ]
  },
  {
   "cell_type": "code",
   "execution_count": null,
   "id": "da32b343-6f56-454e-82fb-89852d30aba3",
   "metadata": {},
   "outputs": [
    {
     "name": "stdout",
     "output_type": "stream",
     "text": [
      "Select your target column(s) for prediction:\n"
     ]
    },
    {
     "data": {
      "application/vnd.jupyter.widget-view+json": {
       "model_id": "2875b5f400c142a1a929f74988e38d3b",
       "version_major": 2,
       "version_minor": 0
      },
      "text/plain": [
       "SelectMultiple(description='Targets:', layout=Layout(width='50%'), options=('UDI', 'Product ID', 'Type', 'Air …"
      ]
     },
     "metadata": {},
     "output_type": "display_data"
    },
    {
     "data": {
      "application/vnd.jupyter.widget-view+json": {
       "model_id": "ce2ee848611046568655947a1e27fde4",
       "version_major": 2,
       "version_minor": 0
      },
      "text/plain": [
       "Button(description='Confirm Selection', style=ButtonStyle())"
      ]
     },
     "metadata": {},
     "output_type": "display_data"
    },
    {
     "data": {
      "application/vnd.jupyter.widget-view+json": {
       "model_id": "19095cb4c9004a2699addfeb8c78a2b5",
       "version_major": 2,
       "version_minor": 0
      },
      "text/plain": [
       "Output()"
      ]
     },
     "metadata": {},
     "output_type": "display_data"
    },
    {
     "name": "stdout",
     "output_type": "stream",
     "text": [
      "Waiting for user to select target(s)...\n"
     ]
    }
   ],
   "source": [
    "from smartqc.defect_engineer import DefectEngineer\n",
    "\n",
    "de = DefectEngineer(audited_df)   # audited_df from Step 3 (quality monitor)\n",
    "final_df, selected_targets = de.run()"
   ]
  }
 ],
 "metadata": {
  "kernelspec": {
   "display_name": "Python (smartqc)",
   "language": "python",
   "name": "smartqc"
  },
  "language_info": {
   "codemirror_mode": {
    "name": "ipython",
    "version": 3
   },
   "file_extension": ".py",
   "mimetype": "text/x-python",
   "name": "python",
   "nbconvert_exporter": "python",
   "pygments_lexer": "ipython3",
   "version": "3.10.16"
  }
 },
 "nbformat": 4,
 "nbformat_minor": 5
}
